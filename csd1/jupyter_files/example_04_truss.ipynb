{
 "cells": [
  {
   "cell_type": "markdown",
   "metadata": {},
   "source": [
    "# Graphic Statics IV: Thruss"
   ]
  },
  {
   "cell_type": "markdown",
   "metadata": {},
   "source": [
    "reference: \n",
    "https://block.arch.ethz.ch/brg/files/2012-jiass-vanmele-lachauer-rippmann-block_1380094579.pdf"
   ]
  },
  {
   "cell_type": "code",
   "execution_count": null,
   "metadata": {},
   "outputs": [],
   "source": [
    "import math as m\n",
    "\n",
    "import compas\n",
    "import compas_ags\n",
    "\n",
    "from compas_ags.diagrams import FormGraph\n",
    "from compas_ags.diagrams import FormDiagram\n",
    "from compas_ags.diagrams import ForceDiagram\n",
    "from compas_ags.ags import graphstatics\n",
    "from compas_ags.viewers import Viewer\n",
    "\n",
    "import warnings\n",
    "warnings.filterwarnings(\"ignore\")"
   ]
  },
  {
   "cell_type": "markdown",
   "metadata": {},
   "source": [
    "###    create a truss"
   ]
  },
  {
   "cell_type": "code",
   "execution_count": null,
   "metadata": {},
   "outputs": [],
   "source": [
    "### \n",
    "###  INPUT HOW MANY LOADS TO ADD\n",
    "###  INPUT SPAN LENGTH\n",
    "###\n",
    "loads = 5\n",
    "span = 10"
   ]
  },
  {
   "cell_type": "code",
   "execution_count": null,
   "metadata": {},
   "outputs": [],
   "source": [
    "def catenary_curve(x, type='hanging_cable', a=5, xm=0, ym=0):\n",
    "    if type is 'arch':\n",
    "        return ym - a * m.cosh((x - xm) / a)\n",
    "    elif type is 'hanging_cable':\n",
    "        return ym + a * m.cosh((x - xm) / a)"
   ]
  },
  {
   "cell_type": "code",
   "execution_count": null,
   "metadata": {},
   "outputs": [],
   "source": [
    "nodes = []\n",
    "edges = []\n",
    "\n",
    "# to save the pair of top and bottom chords\n",
    "chord_pairs = []\n",
    "\n",
    "# truss\n",
    "y0 = catenary_curve(- span / 2)\n",
    "for i in range(loads + 2):\n",
    "    x = i * span / (loads + 1) - span / 2 \n",
    "    nodes.append([x, y0, 0])\n",
    "    if i == 0: \n",
    "        edges.append(tuple([i, i+1]))\n",
    "        edges.append(tuple([i, i+2])) \n",
    "        chord_pairs.append([tuple([i, i+1]), tuple([i, i+2])])\n",
    "    elif i == loads:\n",
    "        nodes.append([x, catenary_curve(x), 0])\n",
    "        edges.append(tuple([i * 2 -1, i * 2 + 1]))\n",
    "        edges.append(tuple([i * 2 - 1, i * 2]))\n",
    "        edges.append(tuple([i * 2, i * 2 + 1]))\n",
    "        chord_pairs.append([tuple([i * 2 -1, i * 2 + 1]), tuple([i * 2, i * 2 + 1])])\n",
    "    elif i != loads + 1:\n",
    "        nodes.append([x, catenary_curve(x), 0])\n",
    "        edges.append(tuple([i * 2 - 1, i * 2 + 1]))\n",
    "        edges.append(tuple([i * 2 - 1, i * 2]))\n",
    "        edges.append(tuple([i * 2, i * 2 + 2]))\n",
    "        chord_pairs.append([tuple([i * 2 -1, i * 2 + 1]), tuple([i * 2, i * 2 + 2])])\n",
    "        \n",
    "# vertical reaction force\n",
    "for i in range(loads + 2):\n",
    "    x = i * span / (loads + 1) - span / 2 \n",
    "    if i == 0:\n",
    "        nodes.append([x, y0 - 1, 0])\n",
    "        edges.append(tuple([0, len(nodes) - 1]))\n",
    "    elif i == loads + 1:\n",
    "        nodes.append([x, y0 - 1, 0])\n",
    "        edges.append(tuple([i * 2 - 1, len(nodes) - 1]))\n",
    "    else:\n",
    "        nodes.append([x, y0 + 1, 0])\n",
    "        edges.append(tuple([i * 2 - 1, len(nodes) - 1]))\n",
    "    \n",
    "# horizontal reaction force\n",
    "nodes.append([-span / 2 - 1.0, y0, 0])\n",
    "edges.append(tuple([0, len(nodes) - 1]))\n",
    "nodes.append([span / 2 + 1.0, y0, 0])\n",
    "edges.append(tuple([2 * loads + 1, len(nodes) - 1]))"
   ]
  },
  {
   "cell_type": "code",
   "execution_count": null,
   "metadata": {},
   "outputs": [],
   "source": [
    "# make form and force diagrams\n",
    "graph = FormGraph.from_nodes_and_edges(nodes, edges)\n",
    "form = FormDiagram.from_graph(graph)\n",
    "force = ForceDiagram.from_formdiagram(form)"
   ]
  },
  {
   "cell_type": "markdown",
   "metadata": {},
   "source": [
    "###    prescribe edge force density and set fixed vertices"
   ]
  },
  {
   "cell_type": "code",
   "execution_count": null,
   "metadata": {},
   "outputs": [],
   "source": [
    "# set the magnitude of the applied load\n",
    "e =  {'v': list(form.vertices_where({'x': - span / 2, 'y': y0}))[0],\n",
    "       'u': list(form.vertices_where({'x': - span / 2 , 'y': y0-1.0}))[0]}\n",
    "form.edge_attribute((e['u'], e['v']), 'is_ind', True)\n",
    "form.edge_attribute((e['u'], e['v']), 'q', -5.)\n",
    "\n",
    "e =  {'v': list(form.vertices_where({'x': - span / 2, 'y': y0}))[0],\n",
    "       'u': list(form.vertices_where({'x': - span / 2 -1 , 'y':y0}))[0]}\n",
    "form.edge_attribute((e['u'], e['v']), 'is_ind', True)\n",
    "form.edge_attribute((e['u'], e['v']), 'q', 0.)\n",
    "\n",
    "# set the fixed points\n",
    "left = list(form.vertices_where({'x': - span / 2, 'y': y0}))[0]\n",
    "right = list(form.vertices_where({'x': span / 2, 'y': y0}))[0]\n",
    "fixed = [left, right]\n",
    "form.set_fixed(fixed)\n",
    "force.set_anchor([0])\n",
    "\n",
    "# update the diagrams\n",
    "graphstatics.form_update_q_from_qind(form)\n",
    "graphstatics.force_update_from_form(force, form)"
   ]
  },
  {
   "cell_type": "markdown",
   "metadata": {},
   "source": [
    "### display force and form diagrams"
   ]
  },
  {
   "cell_type": "code",
   "execution_count": null,
   "metadata": {},
   "outputs": [],
   "source": [
    "# store lines representing the current state of equilibrium\n",
    "form_lines = []\n",
    "for u, v in form.edges():\n",
    "    form_lines.append({\n",
    "        'start': form.vertex_coordinates(u, 'xy'),\n",
    "        'end'  : form.vertex_coordinates(v, 'xy'),\n",
    "        'width': 1.0,\n",
    "        'color': '#cccccc',\n",
    "        'style': '--'\n",
    "    })\n",
    "\n",
    "force_lines = []\n",
    "for u, v in force.edges():\n",
    "    force_lines.append({\n",
    "        'start': force.vertex_coordinates(u, 'xy'),\n",
    "        'end'  : force.vertex_coordinates(v, 'xy'),\n",
    "        'width': 1.0,\n",
    "        'color': '#cccccc',\n",
    "        'style': '--'\n",
    "    })"
   ]
  },
  {
   "cell_type": "code",
   "execution_count": null,
   "metadata": {},
   "outputs": [],
   "source": [
    "viewer = Viewer(form, force, delay_setup=False)\n",
    "\n",
    "viewer.draw_form(\n",
    "    arrows_on=True,\n",
    "    vertexsize=0.15,\n",
    "    vertexlabel={key: key for key in form.vertices()},\n",
    "    edgelabel={uv: index for index, uv in enumerate(form.edges())},)\n",
    "\n",
    "    \n",
    "viewer.draw_force(\n",
    "    arrows_on=True,\n",
    "    vertexsize=0.15,\n",
    "    vertexlabel={key: key for key in force.vertices()},\n",
    "    edgelabel=viewer.check_edge_pairs()[1])\n",
    "\n",
    "viewer.show()"
   ]
  },
  {
   "cell_type": "markdown",
   "metadata": {},
   "source": [
    "### modify force in the bottom chord"
   ]
  },
  {
   "cell_type": "code",
   "execution_count": null,
   "metadata": {},
   "outputs": [],
   "source": [
    "from compas_ags.ags2.constraints import ConstraintsCollection, HorizontalFix, VerticalFix\n",
    "import compas_ags.ags2.rootfinding as rf\n",
    "import numpy as np\n",
    "\n",
    "# set constraints\n",
    "# find vertices in the force diagram and move them to the right\n",
    "# which means making the internal forces and boundary forces smaller\n",
    "C = ConstraintsCollection(form)\n",
    "C.add_constraint(HorizontalFix(form, left))\n",
    "C.add_constraint(VerticalFix(form, left))\n",
    "C.add_constraint(HorizontalFix(form, right))\n",
    "for i in range(loads):\n",
    "    C.add_constraint(HorizontalFix(form, i * loads + 1))\n",
    "C.constrain_dependent_leaf_edges_lengths()\n",
    "\n",
    "# modify the geometry of the force diagram and update the form diagram using Newton's method\n",
    "xy = np.array(form.xy(), dtype=np.float64).reshape((-1, 2))\n",
    "_xy = np.array(force.xy(), dtype=np.float64).reshape((-1, 2))"
   ]
  },
  {
   "cell_type": "code",
   "execution_count": null,
   "metadata": {},
   "outputs": [],
   "source": [
    "from compas.geometry import distance_point_point\n",
    "from itertools import chain\n",
    "\n",
    "form_edges = list(form.edges())\n",
    "top_indices = [form_edges.index(pairs[0]) for pairs in chord_pairs]\n",
    "bottom_indices = [form_edges.index(pairs[1]) for pairs in chord_pairs]\n",
    "force_idx_uv = {idx:uv for uv, idx in viewer.check_edge_pairs()[1].items()}\n",
    "\n",
    "force_bottom = [force_idx_uv[bottom] for bottom in bottom_indices]\n",
    "force_top = [force_idx_uv[top] for top in top_indices]\n",
    "\n",
    "# find the center of the circle\n",
    "cen_idx = max(set(chain.from_iterable(force_bottom)), key=force_bottom.count) \n",
    "\n",
    "# if the target force / radius is not given\n",
    "if True:\n",
    "    radius = 0\n",
    "    for (u, v) in force_bottom:\n",
    "        xy_u = force.vertex_coordinates(u)\n",
    "        xy_v = force.vertex_coordinates(v)\n",
    "        dis = distance_point_point(xy_u, xy_v)\n",
    "        if dis > radius: radius = dis \n",
    "\n",
    "for i, (bottom, top) in enumerate(zip(force_bottom, force_top)):\n",
    "    common_idx = list(set(bottom).intersection(top))\n",
    "    cathetus_a = distance_point_point(force.vertex_coordinates(top[0]), force.vertex_coordinates(top[1]))\n",
    "    catetus_b_pt = list(set(top) - set(common_idx))[0]\n",
    "    cathetus_b = distance_point_point(force.vertex_coordinates(cen_idx), force.vertex_coordinates(catetus_b_pt))\n",
    "    x_dis = m.sqrt(radius ** 2 - cathetus_b ** 2) - cathetus_a\n",
    "    _xy[force.key_index()[common_idx[0]], 0] -= x_dis\n",
    "    \n",
    "    print(i, bottom, top, common_idx)"
   ]
  },
  {
   "cell_type": "code",
   "execution_count": null,
   "metadata": {},
   "outputs": [],
   "source": [
    "# compute the form diagram\n",
    "_X_goal = np.vstack((np.asmatrix(_xy[:, 0]).transpose(), np.asmatrix(_xy[:, 1]).transpose()))\n",
    "rf.compute_form_from_force_newton(form, force, _X_goal, constraints=C)"
   ]
  },
  {
   "cell_type": "code",
   "execution_count": null,
   "metadata": {},
   "outputs": [],
   "source": [
    "viewer = Viewer(form, force, delay_setup=False)\n",
    "\n",
    "viewer.draw_form(lines=form_lines,\n",
    "                 forces_on=True,\n",
    "                 vertexlabel={key: key for key in form.vertices()},\n",
    "                 external_on=False,\n",
    "                 vertexsize=0.2,\n",
    "                 vertexcolor={key: '#000000' for key in fixed},\n",
    "                 edgelabel={uv: index for index, uv in enumerate(form.edges())}\n",
    ")\n",
    "\n",
    "viewer.draw_force(lines=force_lines,\n",
    "                  vertexlabel={key: key for key in force.vertices()},\n",
    "                  vertexsize=0.2,\n",
    "                  edgelabel=viewer.check_edge_pairs()[1]\n",
    ")\n",
    "\n",
    "viewer.show()"
   ]
  },
  {
   "cell_type": "code",
   "execution_count": null,
   "metadata": {},
   "outputs": [],
   "source": []
  }
 ],
 "metadata": {
  "kernelspec": {
   "display_name": "Python 3.7.6 64-bit ('brg': conda)",
   "language": "python",
   "name": "python37664bitbrgconda4dbc8e5bf45f41efb1ca75ea4e9f8fd3"
  },
  "language_info": {
   "codemirror_mode": {
    "name": "ipython",
    "version": 3
   },
   "file_extension": ".py",
   "mimetype": "text/x-python",
   "name": "python",
   "nbconvert_exporter": "python",
   "pygments_lexer": "ipython3",
   "version": "3.7.6"
  }
 },
 "nbformat": 4,
 "nbformat_minor": 4
}
